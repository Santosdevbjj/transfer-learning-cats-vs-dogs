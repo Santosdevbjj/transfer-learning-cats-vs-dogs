# --- Seção 1: Configuração do Ambiente e Importação de Bibliotecas ---

# Montar Google Drive (opcional, se o dataset estiver armazenado lá)
# from google.colab import drive
# drive.mount('/content/drive')

# Importar bibliotecas essenciais
import tensorflow as tf
from tensorflow import keras
from tensorflow.keras.preprocessing.image import ImageDataGenerator
import os
import matplotlib.pyplot as plt
import numpy as np

print("Bibliotecas importadas com sucesso!")
print(f"Versão do TensorFlow: {tf.__version__}")
