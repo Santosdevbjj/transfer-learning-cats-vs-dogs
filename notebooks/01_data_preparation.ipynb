# --- Notebook: 01_data_preparation.ipynb ---

# --- Seção 1: Configuração do Ambiente e Importação de Bibliotecas ---

# Importar bibliotecas essenciais
import tensorflow as tf
from tensorflow import keras
from tensorflow.keras.preprocessing.image import ImageDataGenerator
import os
import matplotlib.pyplot as plt
import numpy as np
import shutil # Para manipulação de arquivos/diretórios

# Importar funções utilitárias (se houverem) do nosso módulo src/
# Exemplo: Se tivéssemos uma função `download_dataset` em src/data_utils.py
# from src.data_utils import download_and_extract_dataset, organize_dataset_folders

print("Bibliotecas importadas com sucesso!")
print(f"Versão do TensorFlow: {tf.__version__}")

# Configurar caminhos base (para Colab)
BASE_DIR = '/content/cats_vs_dogs_dataset' # Diretório principal onde tudo será salvo
SOURCE_IMAGES_DIR = os.path.join(BASE_DIR, 'PetImages') # Onde as imagens originais residem após download
DATASET_SPLIT_DIR = os.path.join(BASE_DIR, 'dataset_split') # Onde criaremos as pastas train/validation

# Criar diretórios base se não existirem
os.makedirs(BASE_DIR, exist_ok=True)
os.makedirs(DATASET_SPLIT_DIR, exist_ok=True)

